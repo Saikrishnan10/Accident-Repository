{
 "cells": [
  {
   "cell_type": "markdown",
   "id": "bc801a27",
   "metadata": {},
   "source": [
    "# Calculate the Risk Score"
   ]
  },
  {
   "cell_type": "code",
   "execution_count": 87,
   "id": "849df572",
   "metadata": {},
   "outputs": [],
   "source": [
    "Accident_Parameters = severity_accident[['LATITUDE','LONGITUDE','LOCATION','ADDRESS','INJURIES_FATAL','INJURIES_TOTAL','DAMAGE']]"
   ]
  },
  {
   "cell_type": "code",
   "execution_count": 88,
   "id": "339d658b",
   "metadata": {},
   "outputs": [
    {
     "data": {
      "text/html": [
       "<div>\n",
       "<style scoped>\n",
       "    .dataframe tbody tr th:only-of-type {\n",
       "        vertical-align: middle;\n",
       "    }\n",
       "\n",
       "    .dataframe tbody tr th {\n",
       "        vertical-align: top;\n",
       "    }\n",
       "\n",
       "    .dataframe thead th {\n",
       "        text-align: right;\n",
       "    }\n",
       "</style>\n",
       "<table border=\"1\" class=\"dataframe\">\n",
       "  <thead>\n",
       "    <tr style=\"text-align: right;\">\n",
       "      <th></th>\n",
       "      <th>LATITUDE</th>\n",
       "      <th>LONGITUDE</th>\n",
       "      <th>LOCATION</th>\n",
       "      <th>ADDRESS</th>\n",
       "      <th>INJURIES_FATAL</th>\n",
       "      <th>INJURIES_TOTAL</th>\n",
       "      <th>DAMAGE</th>\n",
       "    </tr>\n",
       "  </thead>\n",
       "  <tbody>\n",
       "    <tr>\n",
       "      <th>0</th>\n",
       "      <td>41.909977</td>\n",
       "      <td>-87.755823</td>\n",
       "      <td>POINT (-87.755822648009 41.909977009294)</td>\n",
       "      <td>1614 N LARAMIE AVE</td>\n",
       "      <td>0.0</td>\n",
       "      <td>0.0</td>\n",
       "      <td>$501 - $1,500</td>\n",
       "    </tr>\n",
       "    <tr>\n",
       "      <th>1</th>\n",
       "      <td>41.797395</td>\n",
       "      <td>-87.684273</td>\n",
       "      <td>POINT (-87.684272963451 41.797394747543)</td>\n",
       "      <td>5300 S WESTERN AVE</td>\n",
       "      <td>0.0</td>\n",
       "      <td>1.0</td>\n",
       "      <td>OVER $1,500</td>\n",
       "    </tr>\n",
       "    <tr>\n",
       "      <th>2</th>\n",
       "      <td>41.894049</td>\n",
       "      <td>-87.622999</td>\n",
       "      <td>POINT (-87.62299852501 41.894049259418)</td>\n",
       "      <td>161 E ERIE ST</td>\n",
       "      <td>0.0</td>\n",
       "      <td>0.0</td>\n",
       "      <td>OVER $1,500</td>\n",
       "    </tr>\n",
       "    <tr>\n",
       "      <th>3</th>\n",
       "      <td>41.894049</td>\n",
       "      <td>-87.622999</td>\n",
       "      <td>POINT (-87.62299852501 41.894049259418)</td>\n",
       "      <td>161 E ERIE ST</td>\n",
       "      <td>0.0</td>\n",
       "      <td>0.0</td>\n",
       "      <td>OVER $1,500</td>\n",
       "    </tr>\n",
       "    <tr>\n",
       "      <th>4</th>\n",
       "      <td>41.905033</td>\n",
       "      <td>-87.746172</td>\n",
       "      <td>POINT (-87.746171786063 41.905032966964)</td>\n",
       "      <td>1324 N CICERO AVE</td>\n",
       "      <td>0.0</td>\n",
       "      <td>0.0</td>\n",
       "      <td>$501 - $1,500</td>\n",
       "    </tr>\n",
       "    <tr>\n",
       "      <th>...</th>\n",
       "      <td>...</td>\n",
       "      <td>...</td>\n",
       "      <td>...</td>\n",
       "      <td>...</td>\n",
       "      <td>...</td>\n",
       "      <td>...</td>\n",
       "      <td>...</td>\n",
       "    </tr>\n",
       "    <tr>\n",
       "      <th>238063</th>\n",
       "      <td>41.874004</td>\n",
       "      <td>-87.676602</td>\n",
       "      <td>POINT (-87.676602341069 41.874003638416)</td>\n",
       "      <td>600 S DAMEN AVE</td>\n",
       "      <td>0.0</td>\n",
       "      <td>1.0</td>\n",
       "      <td>OVER $1,500</td>\n",
       "    </tr>\n",
       "    <tr>\n",
       "      <th>238064</th>\n",
       "      <td>41.751638</td>\n",
       "      <td>-87.564871</td>\n",
       "      <td>POINT (-87.564871437929 41.751638437521)</td>\n",
       "      <td>2435 E 79TH ST</td>\n",
       "      <td>0.0</td>\n",
       "      <td>0.0</td>\n",
       "      <td>$501 - $1,500</td>\n",
       "    </tr>\n",
       "    <tr>\n",
       "      <th>238065</th>\n",
       "      <td>41.751638</td>\n",
       "      <td>-87.564871</td>\n",
       "      <td>POINT (-87.564871437929 41.751638437521)</td>\n",
       "      <td>2435 E 79TH ST</td>\n",
       "      <td>0.0</td>\n",
       "      <td>0.0</td>\n",
       "      <td>$501 - $1,500</td>\n",
       "    </tr>\n",
       "    <tr>\n",
       "      <th>238066</th>\n",
       "      <td>41.721478</td>\n",
       "      <td>-87.650694</td>\n",
       "      <td>POINT (-87.650694262037 41.721478236557)</td>\n",
       "      <td>1100 W 95TH ST</td>\n",
       "      <td>0.0</td>\n",
       "      <td>0.0</td>\n",
       "      <td>OVER $1,500</td>\n",
       "    </tr>\n",
       "    <tr>\n",
       "      <th>238067</th>\n",
       "      <td>41.721478</td>\n",
       "      <td>-87.650694</td>\n",
       "      <td>POINT (-87.650694262037 41.721478236557)</td>\n",
       "      <td>1100 W 95TH ST</td>\n",
       "      <td>0.0</td>\n",
       "      <td>0.0</td>\n",
       "      <td>OVER $1,500</td>\n",
       "    </tr>\n",
       "  </tbody>\n",
       "</table>\n",
       "<p>236258 rows × 7 columns</p>\n",
       "</div>"
      ],
      "text/plain": [
       "         LATITUDE  LONGITUDE                                  LOCATION  \\\n",
       "0       41.909977 -87.755823  POINT (-87.755822648009 41.909977009294)   \n",
       "1       41.797395 -87.684273  POINT (-87.684272963451 41.797394747543)   \n",
       "2       41.894049 -87.622999   POINT (-87.62299852501 41.894049259418)   \n",
       "3       41.894049 -87.622999   POINT (-87.62299852501 41.894049259418)   \n",
       "4       41.905033 -87.746172  POINT (-87.746171786063 41.905032966964)   \n",
       "...           ...        ...                                       ...   \n",
       "238063  41.874004 -87.676602  POINT (-87.676602341069 41.874003638416)   \n",
       "238064  41.751638 -87.564871  POINT (-87.564871437929 41.751638437521)   \n",
       "238065  41.751638 -87.564871  POINT (-87.564871437929 41.751638437521)   \n",
       "238066  41.721478 -87.650694  POINT (-87.650694262037 41.721478236557)   \n",
       "238067  41.721478 -87.650694  POINT (-87.650694262037 41.721478236557)   \n",
       "\n",
       "                   ADDRESS  INJURIES_FATAL  INJURIES_TOTAL         DAMAGE  \n",
       "0       1614 N LARAMIE AVE             0.0             0.0  $501 - $1,500  \n",
       "1       5300 S WESTERN AVE             0.0             1.0    OVER $1,500  \n",
       "2            161 E ERIE ST             0.0             0.0    OVER $1,500  \n",
       "3            161 E ERIE ST             0.0             0.0    OVER $1,500  \n",
       "4        1324 N CICERO AVE             0.0             0.0  $501 - $1,500  \n",
       "...                    ...             ...             ...            ...  \n",
       "238063     600 S DAMEN AVE             0.0             1.0    OVER $1,500  \n",
       "238064      2435 E 79TH ST             0.0             0.0  $501 - $1,500  \n",
       "238065      2435 E 79TH ST             0.0             0.0  $501 - $1,500  \n",
       "238066      1100 W 95TH ST             0.0             0.0    OVER $1,500  \n",
       "238067      1100 W 95TH ST             0.0             0.0    OVER $1,500  \n",
       "\n",
       "[236258 rows x 7 columns]"
      ]
     },
     "execution_count": 88,
     "metadata": {},
     "output_type": "execute_result"
    }
   ],
   "source": [
    "Accident_Parameters"
   ]
  },
  {
   "cell_type": "code",
   "execution_count": 89,
   "id": "67fd8adf",
   "metadata": {},
   "outputs": [
    {
     "data": {
      "text/plain": [
       "[0.0, 1.0, 1.5]\n",
       "Categories (3, float64): [0.0 < 1.0 < 1.5]"
      ]
     },
     "execution_count": 89,
     "metadata": {},
     "output_type": "execute_result"
    }
   ],
   "source": [
    "#INJURIES_FATAL\n",
    "\n",
    "Accident_Parameters['INJURIES_FATAL'].unique()\n",
    "\n",
    "Accident_Parameters['Risk_Parameter_A'] = pd.cut(x=Accident_Parameters['INJURIES_FATAL'], bins = [-1,0,1,2], \n",
    "                         labels = [0,1,1.5])\n",
    "\n",
    "Accident_Parameters.Risk_Parameter_A.value_counts()\n",
    "Accident_Parameters.Risk_Parameter_A.unique()"
   ]
  },
  {
   "cell_type": "code",
   "execution_count": 90,
   "id": "73b05953",
   "metadata": {},
   "outputs": [
    {
     "data": {
      "text/plain": [
       "[0, 1, 2, 3]\n",
       "Categories (4, int64): [0 < 1 < 2 < 3]"
      ]
     },
     "execution_count": 90,
     "metadata": {},
     "output_type": "execute_result"
    }
   ],
   "source": [
    "#INJURIES TOTAL\n",
    "\n",
    "Accident_Parameters['INJURIES_TOTAL'].unique()\n",
    "\n",
    "\n",
    "Accident_Parameters['Risk_Parameter_B'] = pd.cut(x=Accident_Parameters['INJURIES_TOTAL'], bins = [-1,0,4,6,21], \n",
    "                         labels = [0,1,2,3])\n",
    "\n",
    "Accident_Parameters.Risk_Parameter_B.value_counts()\n",
    "Accident_Parameters.Risk_Parameter_B.unique()"
   ]
  },
  {
   "cell_type": "code",
   "execution_count": 91,
   "id": "d850daf8",
   "metadata": {},
   "outputs": [
    {
     "data": {
      "text/plain": [
       "2    159094\n",
       "1     55711\n",
       "0     21453\n",
       "Name: Risk_Parameter_C, dtype: int64"
      ]
     },
     "execution_count": 91,
     "metadata": {},
     "output_type": "execute_result"
    }
   ],
   "source": [
    "#DAMAGE\n",
    "\n",
    "Accident_Parameters['DAMAGE'].unique()\n",
    "\n",
    "\n",
    "Damage_score = {'$500 OR LESS': 0,'$501 - $1,500': 1,'OVER $1,500': 2}\n",
    "\n",
    "Accident_Parameters['Risk_Parameter_C'] = Accident_Parameters['DAMAGE']    \n",
    "Accident_Parameters['Risk_Parameter_C'] = Accident_Parameters.Risk_Parameter_C.replace(Damage_score)\n",
    "Accident_Parameters.Risk_Parameter_C.value_counts()"
   ]
  },
  {
   "cell_type": "code",
   "execution_count": 92,
   "id": "b8348789",
   "metadata": {
    "scrolled": false
   },
   "outputs": [
    {
     "data": {
      "text/html": [
       "<div>\n",
       "<style scoped>\n",
       "    .dataframe tbody tr th:only-of-type {\n",
       "        vertical-align: middle;\n",
       "    }\n",
       "\n",
       "    .dataframe tbody tr th {\n",
       "        vertical-align: top;\n",
       "    }\n",
       "\n",
       "    .dataframe thead th {\n",
       "        text-align: right;\n",
       "    }\n",
       "</style>\n",
       "<table border=\"1\" class=\"dataframe\">\n",
       "  <thead>\n",
       "    <tr style=\"text-align: right;\">\n",
       "      <th></th>\n",
       "      <th>LATITUDE</th>\n",
       "      <th>LONGITUDE</th>\n",
       "      <th>LOCATION</th>\n",
       "      <th>ADDRESS</th>\n",
       "      <th>INJURIES_FATAL</th>\n",
       "      <th>INJURIES_TOTAL</th>\n",
       "      <th>DAMAGE</th>\n",
       "      <th>Risk_Parameter_A</th>\n",
       "      <th>Risk_Parameter_B</th>\n",
       "      <th>Risk_Parameter_C</th>\n",
       "    </tr>\n",
       "  </thead>\n",
       "  <tbody>\n",
       "    <tr>\n",
       "      <th>0</th>\n",
       "      <td>41.909977</td>\n",
       "      <td>-87.755823</td>\n",
       "      <td>POINT (-87.755822648009 41.909977009294)</td>\n",
       "      <td>1614 N LARAMIE AVE</td>\n",
       "      <td>0.0</td>\n",
       "      <td>0.0</td>\n",
       "      <td>$501 - $1,500</td>\n",
       "      <td>0.0</td>\n",
       "      <td>0</td>\n",
       "      <td>1</td>\n",
       "    </tr>\n",
       "    <tr>\n",
       "      <th>1</th>\n",
       "      <td>41.797395</td>\n",
       "      <td>-87.684273</td>\n",
       "      <td>POINT (-87.684272963451 41.797394747543)</td>\n",
       "      <td>5300 S WESTERN AVE</td>\n",
       "      <td>0.0</td>\n",
       "      <td>1.0</td>\n",
       "      <td>OVER $1,500</td>\n",
       "      <td>0.0</td>\n",
       "      <td>1</td>\n",
       "      <td>2</td>\n",
       "    </tr>\n",
       "    <tr>\n",
       "      <th>2</th>\n",
       "      <td>41.894049</td>\n",
       "      <td>-87.622999</td>\n",
       "      <td>POINT (-87.62299852501 41.894049259418)</td>\n",
       "      <td>161 E ERIE ST</td>\n",
       "      <td>0.0</td>\n",
       "      <td>0.0</td>\n",
       "      <td>OVER $1,500</td>\n",
       "      <td>0.0</td>\n",
       "      <td>0</td>\n",
       "      <td>2</td>\n",
       "    </tr>\n",
       "    <tr>\n",
       "      <th>3</th>\n",
       "      <td>41.894049</td>\n",
       "      <td>-87.622999</td>\n",
       "      <td>POINT (-87.62299852501 41.894049259418)</td>\n",
       "      <td>161 E ERIE ST</td>\n",
       "      <td>0.0</td>\n",
       "      <td>0.0</td>\n",
       "      <td>OVER $1,500</td>\n",
       "      <td>0.0</td>\n",
       "      <td>0</td>\n",
       "      <td>2</td>\n",
       "    </tr>\n",
       "    <tr>\n",
       "      <th>4</th>\n",
       "      <td>41.905033</td>\n",
       "      <td>-87.746172</td>\n",
       "      <td>POINT (-87.746171786063 41.905032966964)</td>\n",
       "      <td>1324 N CICERO AVE</td>\n",
       "      <td>0.0</td>\n",
       "      <td>0.0</td>\n",
       "      <td>$501 - $1,500</td>\n",
       "      <td>0.0</td>\n",
       "      <td>0</td>\n",
       "      <td>1</td>\n",
       "    </tr>\n",
       "  </tbody>\n",
       "</table>\n",
       "</div>"
      ],
      "text/plain": [
       "    LATITUDE  LONGITUDE                                  LOCATION  \\\n",
       "0  41.909977 -87.755823  POINT (-87.755822648009 41.909977009294)   \n",
       "1  41.797395 -87.684273  POINT (-87.684272963451 41.797394747543)   \n",
       "2  41.894049 -87.622999   POINT (-87.62299852501 41.894049259418)   \n",
       "3  41.894049 -87.622999   POINT (-87.62299852501 41.894049259418)   \n",
       "4  41.905033 -87.746172  POINT (-87.746171786063 41.905032966964)   \n",
       "\n",
       "              ADDRESS  INJURIES_FATAL  INJURIES_TOTAL         DAMAGE  \\\n",
       "0  1614 N LARAMIE AVE             0.0             0.0  $501 - $1,500   \n",
       "1  5300 S WESTERN AVE             0.0             1.0    OVER $1,500   \n",
       "2       161 E ERIE ST             0.0             0.0    OVER $1,500   \n",
       "3       161 E ERIE ST             0.0             0.0    OVER $1,500   \n",
       "4   1324 N CICERO AVE             0.0             0.0  $501 - $1,500   \n",
       "\n",
       "  Risk_Parameter_A Risk_Parameter_B  Risk_Parameter_C  \n",
       "0              0.0                0                 1  \n",
       "1              0.0                1                 2  \n",
       "2              0.0                0                 2  \n",
       "3              0.0                0                 2  \n",
       "4              0.0                0                 1  "
      ]
     },
     "execution_count": 92,
     "metadata": {},
     "output_type": "execute_result"
    }
   ],
   "source": [
    "Accident_Parameters.head()"
   ]
  },
  {
   "cell_type": "code",
   "execution_count": 93,
   "id": "f05f83a2",
   "metadata": {
    "scrolled": true
   },
   "outputs": [],
   "source": [
    "Accident_Parameters[['Risk_Parameter_A', 'Risk_Parameter_B', 'Risk_Parameter_C']] =Accident_Parameters[['Risk_Parameter_A', 'Risk_Parameter_B', 'Risk_Parameter_C']].astype(float)\n",
    "Accident_Parameters['RISK_SCORE'] = 2*Accident_Parameters['Risk_Parameter_A'] + 1.5*Accident_Parameters['Risk_Parameter_B'] + 1.5*Accident_Parameters['Risk_Parameter_C']\n",
    "Accident_Parameters['RISK_SCORE'] = Accident_Parameters['RISK_SCORE'].astype(int)"
   ]
  },
  {
   "cell_type": "code",
   "execution_count": 94,
   "id": "079ffddc",
   "metadata": {},
   "outputs": [],
   "source": [
    "reg_input = Accident_Parameters[['Risk_Parameter_A','Risk_Parameter_B', 'Risk_Parameter_C']]\n",
    "reg_output = Accident_Parameters['RISK_SCORE']"
   ]
  },
  {
   "cell_type": "markdown",
   "id": "abbab3d7",
   "metadata": {},
   "source": [
    "## Performing Regression to determine the Risk Score"
   ]
  },
  {
   "cell_type": "code",
   "execution_count": 95,
   "id": "d59a4d6d",
   "metadata": {},
   "outputs": [],
   "source": [
    "import numpy as np\n",
    "import pandas as pd\n",
    "import matplotlib.pyplot as plt\n",
    "import statsmodels.api as sm\n",
    "from sklearn import linear_model\n",
    "X_train_reg, X_test_reg, y_train_reg, y_test_reg = train_test_split(reg_input, reg_output, random_state=10)"
   ]
  },
  {
   "cell_type": "code",
   "execution_count": 96,
   "id": "2dbe8a52",
   "metadata": {},
   "outputs": [
    {
     "data": {
      "text/plain": [
       "array([4.12804077, 2.91775521, 2.91775521, ..., 2.91775521, 2.91775521,\n",
       "       1.29192955])"
      ]
     },
     "execution_count": 96,
     "metadata": {},
     "output_type": "execute_result"
    }
   ],
   "source": [
    "linear_model = linear_model.LinearRegression()\n",
    "linear_model.fit(X_train_reg,y_train_reg)\n",
    "predicted_output = linear_model.predict(X_test_reg)\n",
    "predicted_output"
   ]
  },
  {
   "cell_type": "code",
   "execution_count": 97,
   "id": "6cbb3e88",
   "metadata": {},
   "outputs": [
    {
     "name": "stdout",
     "output_type": "stream",
     "text": [
      "R-squared values = 0.9743006427311183 \n",
      "Adjusted R-Squared Value = 0.9742993373337866\n"
     ]
    }
   ],
   "source": [
    "import statsmodels.api as sm\n",
    "\n",
    "# Adding Constant for Adjusted R-square\n",
    "\n",
    "constant = sm.add_constant(X_test_reg)\n",
    "result = sm.OLS(y_test_reg, constant).fit()\n",
    "print('R-squared values =',result.rsquared,'\\nAdjusted R-Squared Value =', result.rsquared_adj)"
   ]
  },
  {
   "cell_type": "code",
   "execution_count": 98,
   "id": "c813a971",
   "metadata": {},
   "outputs": [
    {
     "name": "stdout",
     "output_type": "stream",
     "text": [
      "The Mean Squared Error Value is =  0.03941243123091162\n",
      "The Root Mean Squared Error Value is =  0.19852564376148393\n"
     ]
    }
   ],
   "source": [
    "from sklearn.metrics import mean_squared_error\n",
    "import math\n",
    "print('The Mean Squared Error Value is = ',mean_squared_error(y_test_reg, predicted_output))\n",
    "print('The Root Mean Squared Error Value is = ',math.sqrt(mean_squared_error(y_test_reg, predicted_output)))"
   ]
  },
  {
   "cell_type": "code",
   "execution_count": 99,
   "id": "89095249",
   "metadata": {},
   "outputs": [
    {
     "name": "stdout",
     "output_type": "stream",
     "text": [
      "The Mean Absolute Error Value is =  0.16398049583160038\n"
     ]
    }
   ],
   "source": [
    "from sklearn.metrics import mean_absolute_error\n",
    "print('The Mean Absolute Error Value is = ',mean_absolute_error(y_test_reg, predicted_output))"
   ]
  },
  {
   "cell_type": "code",
   "execution_count": 100,
   "id": "ce11523f",
   "metadata": {},
   "outputs": [
    {
     "data": {
      "image/png": "[encoded data removed]",
      "text/plain": [
       "<Figure size 432x288 with 1 Axes>"
      ]
     },
     "metadata": {},
     "output_type": "display_data"
    }
   ],
   "source": [
    "sns.set_theme(color_codes=True)\n",
    "sns.regplot(x=y_test_reg,y=predicted_output,ci=None,scatter_kws={\"color\": \"blue\"}, line_kws={\"color\": \"red\"});\n",
    "plt.xlabel('Actual');\n",
    "plt.ylabel('Predicted');"
   ]
  }
 ],
 "metadata": {
  "kernelspec": {
   "display_name": "Python 3 (ipykernel)",
   "language": "python",
   "name": "python3"
  },
  "language_info": {
   "codemirror_mode": {
    "name": "ipython",
    "version": 3
   },
   "file_extension": ".py",
   "mimetype": "text/x-python",
   "name": "python",
   "nbconvert_exporter": "python",
   "pygments_lexer": "ipython3",
   "version": "3.9.7"
  }
 },
 "nbformat": 4,
 "nbformat_minor": 5
}
