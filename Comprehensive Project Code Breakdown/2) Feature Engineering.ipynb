{
 "cells": [
  {
   "cell_type": "markdown",
   "id": "e956f5f4",
   "metadata": {},
   "source": [
    "# Feature Engineering and Changing columns Names"
   ]
  },
  {
   "cell_type": "code",
   "execution_count": 23,
   "id": "b2385f7a",
   "metadata": {},
   "outputs": [],
   "source": [
    "# Feature Engineering the column season using the month column\n",
    "month_bins = [0,4,7,10,13]\n",
    "label=('Winter','Spring','Summer','Fall')\n",
    "month_binned = pd.cut(severity_accident['CRASH_MONTH'], month_bins, labels= label)\n",
    "month_binned= month_binned.cat.as_unordered()\n",
    "severity_accident['SEASON'] = month_binned"
   ]
  },
  {
   "cell_type": "code",
   "execution_count": 24,
   "id": "a6958f50",
   "metadata": {},
   "outputs": [],
   "source": [
    "# Removing Further Columns by after feature engineering\n",
    "\n",
    "severity_accident['STREET_NO'] = (severity_accident['STREET_NO']).astype(str)\n",
    "severity_accident['STREET_DIRECTION'] = (severity_accident['STREET_DIRECTION']).astype(str)\n",
    "severity_accident['STREET_NAME'] = (severity_accident['STREET_NAME']).astype(str)"
   ]
  },
  {
   "cell_type": "code",
   "execution_count": 25,
   "id": "ed467a91",
   "metadata": {},
   "outputs": [],
   "source": [
    "# Removing after columns after creating address\n",
    "severity_accident['ADDRESS'] = severity_accident[['STREET_NO', 'STREET_DIRECTION', 'STREET_NAME']].agg(' '.join, axis=1)\n",
    "severity_accident.drop(['STREET_NO','STREET_DIRECTION','STREET_NAME'],axis=1, inplace = True)"
   ]
  },
  {
   "cell_type": "code",
   "execution_count": 26,
   "id": "6a660c24",
   "metadata": {},
   "outputs": [
    {
     "data": {
      "text/plain": [
       "0    152787\n",
       "1     83471\n",
       "Name: SEVERE, dtype: int64"
      ]
     },
     "execution_count": 26,
     "metadata": {},
     "output_type": "execute_result"
    }
   ],
   "source": [
    "# Changing the Target Varible which is to identify as the severity of the accident\n",
    "\n",
    "severity_accident.rename(columns = {'CRASH_TYPE': 'SEVERE'}, inplace = True)\n",
    "severity_accident['SEVERE'] = severity_accident.SEVERE.replace({'INJURY AND / OR TOW DUE TO CRASH':'1','NO INJURY / DRIVE AWAY':'0'})\n",
    "severity_accident['SEVERE'].value_counts()"
   ]
  },
  {
   "cell_type": "code",
   "execution_count": 27,
   "id": "aee8b423",
   "metadata": {},
   "outputs": [],
   "source": [
    "# Duplicating anoother variable\n",
    "\n",
    "severity_accident_clean = copy.deepcopy(severity_accident)"
   ]
  },
  {
   "cell_type": "markdown",
   "id": "e8180de6",
   "metadata": {},
   "source": [
    "# Grouping the values of the categorical variables for one hot encoding"
   ]
  },
  {
   "cell_type": "markdown",
   "id": "09b198dc",
   "metadata": {},
   "source": [
    "### Creating bins and label\n",
    "\n",
    "\n",
    "### POSTED_SPEED_RANGE"
   ]
  },
  {
   "cell_type": "code",
   "execution_count": 28,
   "id": "9975f9f4",
   "metadata": {},
   "outputs": [
    {
     "data": {
      "text/plain": [
       "['26-40', '16-25', '41+', '0-15']"
      ]
     },
     "execution_count": 28,
     "metadata": {},
     "output_type": "execute_result"
    }
   ],
   "source": [
    "# creating bins and label, previewing data \n",
    "severity_accident_clean['POSTED_SPEED_RANGE'] = pd.cut(x=severity_accident_clean['POSTED_SPEED_LIMIT'], bins = [-1,15,25,40,75], \n",
    "                         labels = ['0-15', '16-25', \n",
    "                        '26-40', '41+'])\n",
    "list(severity_accident_clean.POSTED_SPEED_RANGE.unique())"
   ]
  },
  {
   "cell_type": "markdown",
   "id": "1d2cfdfb",
   "metadata": {},
   "source": [
    "### Weather Condtion"
   ]
  },
  {
   "cell_type": "code",
   "execution_count": 29,
   "id": "004264c3",
   "metadata": {},
   "outputs": [
    {
     "data": {
      "text/plain": [
       "CLEAR          191077\n",
       "RAIN/CLOUDY     25970\n",
       "SNOW/OTHER      18510\n",
       "OTHER             701\n",
       "Name: WEATHER_CONDITION, dtype: int64"
      ]
     },
     "execution_count": 29,
     "metadata": {},
     "output_type": "execute_result"
    }
   ],
   "source": [
    "## Grouping columns values that are similar\n",
    "\n",
    "severity_accident_clean.WEATHER_CONDITION.value_counts()\n",
    "severity_accident_clean.WEATHER_CONDITION.unique()\n",
    "\n",
    "weather_map = {'CLEAR': 'CLEAR',\n",
    "                'RAIN': 'RAIN/CLOUDY',               \n",
    "                'CLOUDY/OVERCAST': 'RAIN/CLOUDY',\n",
    "               'FREEZING RAIN/DRIZZLE': 'RAIN/CLOUDY',\n",
    "               'SLEET/HAIL': 'RAIN/CLOUDY', \n",
    "               'FOG/SMOKE/HAZE': 'RAIN/CLOUDY',\n",
    "               'SEVERE CROSS WIND GATE': 'RAIN/CLOUDY',\n",
    "               'UNKNOWN': 'SNOW/OTHER',\n",
    "                'OTHER ': 'SNOW/OTHER',\n",
    "               'SNOW':'SNOW/OTHER',\n",
    "               'BLOWING SNOW':'SNOW/OTHER'               \n",
    "                }\n",
    "severity_accident_clean.WEATHER_CONDITION = severity_accident_clean.WEATHER_CONDITION.replace(weather_map)\n",
    "severity_accident_clean.WEATHER_CONDITION.value_counts()"
   ]
  },
  {
   "cell_type": "markdown",
   "id": "b8fa5463",
   "metadata": {},
   "source": [
    "### Roadway condition"
   ]
  },
  {
   "cell_type": "code",
   "execution_count": 30,
   "id": "05d1125f",
   "metadata": {},
   "outputs": [
    {
     "data": {
      "text/plain": [
       "DRY              179406\n",
       "WET               28470\n",
       "UNKNOWN/OTHER     17605\n",
       "SNOW OR SLUSH     10777\n",
       "Name: ROADWAY_SURFACE_COND, dtype: int64"
      ]
     },
     "execution_count": 30,
     "metadata": {},
     "output_type": "execute_result"
    }
   ],
   "source": [
    "## Grouping columns values that are similar\n",
    "severity_accident_clean['ROADWAY_SURFACE_COND'] =severity_accident_clean['ROADWAY_SURFACE_COND'].replace({'UNKNOWN':'UNKNOWN/OTHER',\n",
    "                                                                 'OTHER':'UNKNOWN/OTHER',\n",
    "                                                               'SAND, MUD, DIRT': 'UNKNOWN/OTHER',\n",
    "                                                                 'ICE': 'SNOW OR SLUSH'})\n",
    "severity_accident_clean['ROADWAY_SURFACE_COND'].value_counts()"
   ]
  },
  {
   "cell_type": "markdown",
   "id": "089a6bd5",
   "metadata": {},
   "source": [
    "### Traffic Control Device"
   ]
  },
  {
   "cell_type": "code",
   "execution_count": 31,
   "id": "82372eff",
   "metadata": {},
   "outputs": [
    {
     "data": {
      "text/plain": [
       "NO CONTROLS            120244\n",
       "TRAFFIC SIGNAL/SIGN    105993\n",
       "UNKNOWN/OTHER           10021\n",
       "Name: TRAFFIC_CONTROL_DEVICE, dtype: int64"
      ]
     },
     "execution_count": 31,
     "metadata": {},
     "output_type": "execute_result"
    }
   ],
   "source": [
    "## Grouping columns values that are similar\n",
    "severity_accident_clean.TRAFFIC_CONTROL_DEVICE.value_counts()\n",
    "severity_accident_clean.TRAFFIC_CONTROL_DEVICE.unique()\n",
    "\n",
    "\n",
    "traffic_control_map =  {'NO CONTROLS': 'NO CONTROLS',}\n",
    "traffic_control_map.update(dict.fromkeys(['TRAFFIC SIGNAL','STOP SIGN/FLASHER','OTHER WARNING SIGN','PEDESTRIAN CROSSING SIGN',\n",
    "                                          'OTHER REG. SIGN','FLASHING CONTROL SIGNAL','RR CROSSING SIGN','BICYCLE CROSSING SIGN']\n",
    "                                         ,'TRAFFIC SIGNAL/SIGN'))\n",
    "traffic_control_map.update(dict.fromkeys(['UNKNOWN','SCHOOL ZONE','YIELD', 'OTHER','DELINEATORS','RAILROAD CROSSING GATE','OTHER RAILROAD CROSSING',\n",
    "                                         'POLICE/FLAGMAN','NO PASSING'],'UNKNOWN/OTHER'))\n",
    "\n",
    "traffic_control_map\n",
    "\n",
    "\n",
    "\n",
    "severity_accident_clean.TRAFFIC_CONTROL_DEVICE = severity_accident_clean.TRAFFIC_CONTROL_DEVICE.replace(traffic_control_map) \n",
    "\n",
    "\n",
    "severity_accident_clean.TRAFFIC_CONTROL_DEVICE.value_counts()"
   ]
  },
  {
   "cell_type": "markdown",
   "id": "323deb4d",
   "metadata": {},
   "source": [
    "### Road Defect"
   ]
  },
  {
   "cell_type": "code",
   "execution_count": 32,
   "id": "fd1086bc",
   "metadata": {},
   "outputs": [
    {
     "data": {
      "text/plain": [
       "NO DEFECTS      190656\n",
       "UNKNOWN          41980\n",
       "DEFECT/OTHER      3622\n",
       "Name: ROAD_DEFECT, dtype: int64"
      ]
     },
     "execution_count": 32,
     "metadata": {},
     "output_type": "execute_result"
    }
   ],
   "source": [
    "## Grouping columns values that are similar\n",
    "road_defect_map = {'NO DEFECTS': 'NO DEFECTS',\n",
    "              'RUT, HOLES':'DEFECT/OTHER',\n",
    "              'SHOULDER DEFECT': 'DEFECT/OTHER',\n",
    "              'DEBRIS ON ROADWAY': 'DEFECT/OTHER', \n",
    "              'WORN SURFACE': 'DEFECT/OTHER',\n",
    "              'OTHER': 'DEFECT/OTHER',\n",
    "                'UNKNOWN': 'UNKNOWN',\n",
    "                }\n",
    "severity_accident_clean.ROAD_DEFECT = severity_accident_clean.ROAD_DEFECT.replace(road_defect_map)\n",
    "severity_accident_clean.ROAD_DEFECT.value_counts()"
   ]
  },
  {
   "cell_type": "markdown",
   "id": "96fdbc7a",
   "metadata": {},
   "source": [
    "### Trafficway Type"
   ]
  },
  {
   "cell_type": "code",
   "execution_count": 33,
   "id": "1e7ba030",
   "metadata": {},
   "outputs": [
    {
     "data": {
      "text/plain": [
       "NOT DIVIDED                      101428\n",
       "DIVIDED                           50796\n",
       "FOUR WAY                          26794\n",
       "ONE-WAY                           23303\n",
       "ALLEY/LANE/INTERSECTION/OTHER     18450\n",
       "PARKING LOT                       11620\n",
       "UNKNOWN                            3867\n",
       "Name: TRAFFICWAY_TYPE, dtype: int64"
      ]
     },
     "execution_count": 33,
     "metadata": {},
     "output_type": "execute_result"
    }
   ],
   "source": [
    "## Grouping columns values that are similar\n",
    "trafficway_map = {'NOT DIVIDED': 'NOT DIVIDED',\n",
    "                'DIVIDED - W/MEDIAN (NOT RAISED)': 'DIVIDED',\n",
    "                'ONE-WAY': 'ONE-WAY',\n",
    "                'FOUR WAY': 'FOUR WAY',\n",
    "                'PARKING LOT': 'PARKING LOT',\n",
    "                'DIVIDED - W/MEDIAN BARRIER': 'DIVIDED',\n",
    "                'ALLEY': 'ALLEY/LANE/INTERSECTION/OTHER',\n",
    "                'OTHER': 'ALLEY/LANE/INTERSECTION/OTHER',\n",
    "                'CENTER TURN LANE':'ALLEY/LANE/INTERSECTION/OTHER', \n",
    "                'Y-INTERSECTION': 'ALLEY/LANE/INTERSECTION/OTHER',\n",
    "                'T-INTERSECTION': 'ALLEY/LANE/INTERSECTION/OTHER',\n",
    "                  'L-INTERSECTION' : 'ALLEY/LANE/INTERSECTION/OTHER', \n",
    "                 'TRAFFIC ROUTE': 'ALLEY/LANE/INTERSECTION/OTHER',\n",
    "                  'RAMP': 'ALLEY/LANE/INTERSECTION/OTHER',\n",
    "                  'FIVE POINT, OR MORE': 'ALLEY/LANE/INTERSECTION/OTHER',\n",
    "                 'DRIVEWAY': 'ALLEY/LANE/INTERSECTION/OTHER',\n",
    "                  'ROUNDABOUT': 'ALLEY/LANE/INTERSECTION/OTHER',\n",
    "                'UNKNOWN': 'UNKNOWN',\n",
    "                'NOT REPORTED': 'UNKNOWN',\n",
    "                'UNKNOWN INTERSECTION TYPE': 'UNKNOWN'}\n",
    "# Should be done only once, i.e while running the program for the first time\n",
    "severity_accident_clean.TRAFFICWAY_TYPE = severity_accident_clean.TRAFFICWAY_TYPE.replace(trafficway_map)\n",
    "severity_accident_clean.TRAFFICWAY_TYPE.value_counts()"
   ]
  },
  {
   "cell_type": "markdown",
   "id": "d486fd39",
   "metadata": {},
   "source": [
    "### First Crash Type"
   ]
  },
  {
   "cell_type": "code",
   "execution_count": 34,
   "id": "a5c2b512",
   "metadata": {},
   "outputs": [
    {
     "data": {
      "text/plain": [
       "TURNING/ANGLE                74382\n",
       "REAR END                     57767\n",
       "SIDESWIPE                    42247\n",
       "PARKED/FIXED                 41136\n",
       "PED/CYCLIST                   9064\n",
       "REAR TO (FRONT/SIDE/REAR)     6847\n",
       "OTHER                         4815\n",
       "Name: FIRST_CRASH_TYPE, dtype: int64"
      ]
     },
     "execution_count": 34,
     "metadata": {},
     "output_type": "execute_result"
    }
   ],
   "source": [
    "crash_map = {'PEDESTRIAN': 'PED/CYCLIST',\n",
    "                'PEDALCYCLIST': 'PED/CYCLIST',\n",
    "                'REAR END': 'REAR END',\n",
    "                'SIDESWIPE SAME DIRECTION': 'SIDESWIPE',\n",
    "             'SIDESWIPE OPPOSITE DIRECTION': 'SIDESWIPE',             \n",
    "                'TURNING': 'TURNING/ANGLE',\n",
    "                'ANGLE': 'TURNING/ANGLE',\n",
    "                'PARKED MOTOR VEHICLE': 'PARKED/FIXED',\n",
    "                'FIXED OBJECT': 'PARKED/FIXED',                \n",
    "                'REAR TO FRONT':'REAR TO (FRONT/SIDE/REAR)',\n",
    "                 'REAR TO SIDE': 'REAR TO (FRONT/SIDE/REAR)',\n",
    "                 'REAR TO REAR': 'REAR TO (FRONT/SIDE/REAR)',\n",
    "                'OVERTURNED': 'OTHER',\n",
    "                'ANIMAL': 'OTHER',\n",
    "                'HEAD ON': 'OTHER',\n",
    "                'OTHER OBJECT': 'OTHER',                \n",
    "                'OTHER NONCOLLISION': 'OTHER',\n",
    "             'TRAIN':'OTHER'}\n",
    "len(crash_map)\n",
    "\n",
    "# Should be done only once, i.e while running the program for the first time\n",
    "severity_accident_clean.FIRST_CRASH_TYPE = severity_accident_clean.FIRST_CRASH_TYPE.replace(crash_map)\n",
    "severity_accident_clean.FIRST_CRASH_TYPE.value_counts()"
   ]
  },
  {
   "cell_type": "code",
   "execution_count": 35,
   "id": "4708f7f3",
   "metadata": {},
   "outputs": [
    {
     "data": {
      "text/plain": [
       "PASSENGER             143746\n",
       "SUV/VAN/PICKUP         51276\n",
       "UNKNOWN/NA             26549\n",
       "BUS/TRUCK/TRAILER      10675\n",
       "OTHER                   4011\n",
       "MOTOR DRIVEN CYCLE         1\n",
       "Name: VEHICLE_TYPE, dtype: int64"
      ]
     },
     "execution_count": 35,
     "metadata": {},
     "output_type": "execute_result"
    }
   ],
   "source": [
    "severity_accident_clean.VEHICLE_TYPE.value_counts()\n",
    "vehicle_map = {'PASSENGER': 'PASSENGER',\n",
    "                'SPORT UTILITY VEHICLE (SUV)': 'SUV/VAN/PICKUP',\n",
    "                'UNKNOWN/NA': 'UNKNOWN/NA',\n",
    "                'VAN/MINI-VAN': 'SUV/VAN/PICKUP',\n",
    "                'PICKUP': 'SUV/VAN/PICKUP',                \n",
    "                'TRACTOR W/ SEMI-TRAILER': 'BUS/TRUCK/TRAILER',\n",
    "                'TRUCK - SINGLE UNIT': 'BUS/TRUCK/TRAILER',\n",
    "                'BUS UP TO 15 PASS.': 'BUS/TRUCK/TRAILER',\n",
    "                'BUS OVER 15 PASS.': 'BUS/TRUCK/TRAILER',\n",
    "                'SINGLE UNIT TRUCK WITH TRAILER': 'BUS/TRUCK/TRAILER',\n",
    "               'OTHER VEHICLE WITH TRAILER':'BUS/TRUCK/TRAILER',\n",
    "               'OTHER': 'OTHER',\n",
    "                'MOTORCYCLE (OVER 150CC)': 'OTHER',\n",
    "                'TRACTOR W/O SEMI-TRAILER': 'OTHER',\n",
    "                'MOPED OR MOTORIZED BICYCLE': 'OTHER',\n",
    "                'AUTOCYCLE': 'OTHER',\n",
    "                'ALL-TERRAIN VEHICLE (ATV)': 'OTHER',\n",
    "               'FARM EQUIPMENT': 'OTHER',\n",
    "                '3-WHEELED MOTORCYCLE (2 REAR WHEELS)': 'OTHER',\n",
    "                'RECREATIONAL OFF-HIGHWAY VEHICLE (ROV)': 'OTHER',  \n",
    "               'SNOWMOBILE': 'OTHER'\n",
    "              }\n",
    "# Should be done only once, i.e while running the program for the first time\n",
    "severity_accident_clean.VEHICLE_TYPE = severity_accident_clean.VEHICLE_TYPE.replace(vehicle_map)\n",
    "severity_accident_clean.VEHICLE_TYPE.value_counts()"
   ]
  },
  {
   "cell_type": "code",
   "execution_count": 36,
   "id": "4b31ac93",
   "metadata": {},
   "outputs": [
    {
     "data": {
      "text/plain": [
       "USAGE UNKNOWN            117819\n",
       "SAFETY EQUIPMENT USED    107394\n",
       "NONE PRESENT/NOT USED     10692\n",
       "OTHERS                      353\n",
       "Name: SAFETY_EQUIPMENT, dtype: int64"
      ]
     },
     "execution_count": 36,
     "metadata": {},
     "output_type": "execute_result"
    }
   ],
   "source": [
    "safety_map = {'USAGE UNKNOWN': 'USAGE UNKNOWN',\n",
    "                'SAFETY BELT USED': 'SAFETY EQUIPMENT USED',\n",
    "                'NONE PRESENT': 'NONE PRESENT/NOT USED',\n",
    "                'BICYCLE HELMET (PEDACYCLIST INVOLVED ONLY)': 'SAFETY EQUIPMENT USED',\n",
    "                'HELMET NOT USED': 'NONE PRESENT/NOT USED',\n",
    "                'SAFETY BELT NOT USED': 'NONE PRESENT/NOT USED',\n",
    "                'DOT COMPLIANT MOTORCYCLE HELMET ': 'SAFETY EQUIPMENT USED',\n",
    "                'CHILD RESTRAINT - FORWARD FACING': 'SAFETY EQUIPMENT USED',\n",
    "                'CHILD RESTRAINT - REAR FACING': 'SAFETY EQUIPMENT USED',\n",
    "                'CHILD RESTRAINT - TYPE UNKNOWN': 'SAFETY EQUIPMENT USED',\n",
    "              'CHILD RESTRAINT USED': 'SAFETY EQUIPMENT USED',\n",
    "                'SHOULD/LAP BELT USED IMPROPERLY': 'NONE PRESENT/NOT USED',\n",
    "             'BOOSTER SEAT':'OTHERS',\n",
    " 'CHILD RESTRAINT NOT USED':'NONE PRESENT/NOT USED',\n",
    " 'CHILD RESTRAINT USED':'SAFETY EQUIPMENT USED',\n",
    " 'CHILD RESTRAINT USED IMPROPERLY':'NONE PRESENT/NOT USED',\n",
    " 'DOT COMPLIANT MOTORCYCLE HELMET':'NONE PRESENT/NOT USED',\n",
    " 'HELMET USED':'SAFETY EQUIPMENT USED',\n",
    " 'NOT DOT COMPLIANT MOTORCYCLE HELMET':'OTHERS',\n",
    " 'STRETCHER':'OTHERS',\n",
    " 'WHEELCHAIR':'OTHERS'}\n",
    "\n",
    "# Should be done only once, i.e while running the program for the first time\n",
    "severity_accident_clean.SAFETY_EQUIPMENT = severity_accident_clean.SAFETY_EQUIPMENT.replace(safety_map)\n",
    "severity_accident_clean.SAFETY_EQUIPMENT.value_counts()"
   ]
  },
  {
   "cell_type": "code",
   "execution_count": 37,
   "id": "f4492b8e",
   "metadata": {},
   "outputs": [
    {
     "data": {
      "text/plain": [
       "NOT APPLICABLE/UNKNOWN    117230\n",
       "DID NOT DEPLOY             99026\n",
       "DEPLOYED                   20002\n",
       "Name: AIRBAG_DEPLOYED, dtype: int64"
      ]
     },
     "execution_count": 37,
     "metadata": {},
     "output_type": "execute_result"
    }
   ],
   "source": [
    "# defining dictionary map and remapping\n",
    "airbag_map = {'DID NOT DEPLOY': 'DID NOT DEPLOY',\n",
    "                'NOT APPLICABLE': 'NOT APPLICABLE/UNKNOWN',\n",
    "                'DEPLOYMENT UNKNOWN': 'NOT APPLICABLE/UNKNOWN',\n",
    "                'DEPLOYED, FRONT': 'DEPLOYED',\n",
    "                'DEPLOYED, COMBINATION': 'DEPLOYED',\n",
    "                'DEPLOYED, SIDE': 'DEPLOYED',\n",
    "                'DEPLOYED OTHER (KNEE, AIR, BELT, ETC.)': 'DEPLOYED'}\n",
    "\n",
    "# Should be done only once, i.e while running the program for the first time\n",
    "severity_accident_clean.AIRBAG_DEPLOYED = severity_accident_clean.AIRBAG_DEPLOYED.replace(airbag_map)\n",
    "severity_accident_clean.AIRBAG_DEPLOYED.value_counts()"
   ]
  },
  {
   "cell_type": "code",
   "execution_count": 38,
   "id": "bdbc7bfb",
   "metadata": {},
   "outputs": [
    {
     "data": {
      "text/plain": [
       "UNKNOWN         144567\n",
       "NOT OBSCURED     87259\n",
       "OBSCURED          4432\n",
       "Name: DRIVER_VISION, dtype: int64"
      ]
     },
     "execution_count": 38,
     "metadata": {},
     "output_type": "execute_result"
    }
   ],
   "source": [
    "# defining dictionary map and remapping\n",
    "driver_map = {'NOT OBSCURED': 'NOT OBSCURED',\n",
    "                'UNKNOWN': 'UNKNOWN',\n",
    "                'OTHER': 'OBSCURED',\n",
    "                'PARKED VEHICLES': 'OBSCURED',\n",
    "                'MOVING VEHICLES': 'OBSCURED',\n",
    "                'BLINDED - SUNLIGHT': 'OBSCURED',\n",
    "             'BLINDED - HEADLIGHTS': 'OBSCURED',\n",
    " 'BLOWING MATERIALS': 'OBSCURED',\n",
    " 'BUILDINGS': 'OBSCURED',\n",
    " 'EMBANKMENT': 'OBSCURED',\n",
    " 'HILLCREST': 'OBSCURED',\n",
    " 'SIGNBOARD': 'OBSCURED',\n",
    " 'TREES, PLANTS': 'OBSCURED',\n",
    " 'WINDSHIELD (WATER/ICE)': 'OBSCURED'}\n",
    "\n",
    "# Should be done only once, i.e while running the program for the first time\n",
    "severity_accident_clean.DRIVER_VISION = severity_accident_clean.DRIVER_VISION.replace(driver_map)\n",
    "\n",
    "severity_accident_clean.DRIVER_VISION.value_counts()"
   ]
  },
  {
   "cell_type": "code",
   "execution_count": 39,
   "id": "2686c057",
   "metadata": {},
   "outputs": [
    {
     "data": {
      "text/plain": [
       "CRASH_RECORD_ID                  0\n",
       "RD_NO                            0\n",
       "CRASH_DATE                       0\n",
       "SEX                              0\n",
       "SAFETY_EQUIPMENT                 0\n",
       "AIRBAG_DEPLOYED                  0\n",
       "DRIVER_VISION                    0\n",
       "UNIT_TYPE                        0\n",
       "VEHICLE_TYPE                     0\n",
       "POSTED_SPEED_LIMIT               0\n",
       "TRAFFIC_CONTROL_DEVICE           0\n",
       "DEVICE_CONDITION                 0\n",
       "WEATHER_CONDITION                0\n",
       "LIGHTING_CONDITION               0\n",
       "FIRST_CRASH_TYPE                 0\n",
       "TRAFFICWAY_TYPE                  0\n",
       "ALIGNMENT                        0\n",
       "ROADWAY_SURFACE_COND             0\n",
       "ROAD_DEFECT                      0\n",
       "SEVERE                           0\n",
       "HIT_AND_RUN_I                    0\n",
       "DAMAGE                           0\n",
       "PRIM_CONTRIBUTORY_CAUSE          0\n",
       "NUM_UNITS                        0\n",
       "MOST_SEVERE_INJURY               0\n",
       "INJURIES_TOTAL                   0\n",
       "INJURIES_FATAL                   0\n",
       "INJURIES_INCAPACITATING          0\n",
       "INJURIES_NON_INCAPACITATING      0\n",
       "INJURIES_REPORTED_NOT_EVIDENT    0\n",
       "INJURIES_NO_INDICATION           0\n",
       "INJURIES_UNKNOWN                 0\n",
       "CRASH_HOUR                       0\n",
       "CRASH_DAY_OF_WEEK                0\n",
       "CRASH_MONTH                      0\n",
       "LATITUDE                         0\n",
       "LONGITUDE                        0\n",
       "LOCATION                         0\n",
       "SEASON                           0\n",
       "ADDRESS                          0\n",
       "POSTED_SPEED_RANGE               0\n",
       "dtype: int64"
      ]
     },
     "execution_count": 39,
     "metadata": {},
     "output_type": "execute_result"
    }
   ],
   "source": [
    "(severity_accident_clean.isna().sum())"
   ]
  }
 ],
 "metadata": {
  "kernelspec": {
   "display_name": "Python 3 (ipykernel)",
   "language": "python",
   "name": "python3"
  },
  "language_info": {
   "codemirror_mode": {
    "name": "ipython",
    "version": 3
   },
   "file_extension": ".py",
   "mimetype": "text/x-python",
   "name": "python",
   "nbconvert_exporter": "python",
   "pygments_lexer": "ipython3",
   "version": "3.9.7"
  }
 },
 "nbformat": 4,
 "nbformat_minor": 5
}
