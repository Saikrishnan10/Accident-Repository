{
 "cells": [
  {
   "cell_type": "markdown",
   "id": "93d7b65f",
   "metadata": {},
   "source": [
    "## Logistic Regression"
   ]
  },
  {
   "cell_type": "code",
   "execution_count": 50,
   "id": "444605f7",
   "metadata": {},
   "outputs": [
    {
     "data": {
      "text/plain": [
       "LogisticRegression(C=10000000000.0)"
      ]
     },
     "execution_count": 50,
     "metadata": {},
     "output_type": "execute_result"
    }
   ],
   "source": [
    "# Creating the Logistic classifier, and fitting it on the training data to make predictions on the testing data\n",
    "logreg = LogisticRegression(C=1e10)\n",
    "logreg.fit(X_train, y_train)"
   ]
  },
  {
   "cell_type": "code",
   "execution_count": 51,
   "id": "54a7a3b6",
   "metadata": {},
   "outputs": [],
   "source": [
    "# Predicting tesing data using logreg\n",
    "logreg_prediction = logreg.predict(X_test)"
   ]
  },
  {
   "cell_type": "code",
   "execution_count": 52,
   "id": "447ccdae",
   "metadata": {},
   "outputs": [
    {
     "data": {
      "text/plain": [
       "array([0.9995581 , 0.69210251, 0.1369188 , ..., 0.47505612, 0.1833869 ,\n",
       "       0.02493141])"
      ]
     },
     "execution_count": 52,
     "metadata": {},
     "output_type": "execute_result"
    }
   ],
   "source": [
    "# probabilit for each values\n",
    "\n",
    "pred_prob_log = logreg.predict_proba(X_test)[:,1]\n",
    "pred_prob_log"
   ]
  },
  {
   "cell_type": "code",
   "execution_count": 53,
   "id": "5af793f4",
   "metadata": {},
   "outputs": [
    {
     "name": "stdout",
     "output_type": "stream",
     "text": [
      "Classification Report for Logistic Regression\n",
      "\n",
      "              precision    recall  f1-score   support\n",
      "\n",
      "           0       0.86      0.98      0.91     38236\n",
      "           1       0.94      0.70      0.80     20829\n",
      "\n",
      "    accuracy                           0.88     59065\n",
      "   macro avg       0.90      0.84      0.86     59065\n",
      "weighted avg       0.89      0.88      0.87     59065\n",
      "\n"
     ]
    }
   ],
   "source": [
    "#printing classifiction report of logistic regression\n",
    "print('Classification Report for Logistic Regression\\n')\n",
    "print(classification_report(y_test, logreg_prediction))"
   ]
  },
  {
   "cell_type": "code",
   "execution_count": 54,
   "id": "75bcdd8c",
   "metadata": {},
   "outputs": [
    {
     "name": "stdout",
     "output_type": "stream",
     "text": [
      "Predicted Results \n",
      " [[37383   853]\n",
      " [ 6292 14537]]\n"
     ]
    },
    {
     "data": {
      "image/png": "[encoded data removed]",
      "text/plain": [
       "<Figure size 432x288 with 2 Axes>"
      ]
     },
     "metadata": {
      "needs_background": "light"
     },
     "output_type": "display_data"
    }
   ],
   "source": [
    "#printing the confusion matrix of Logistic regression\n",
    "cm_log = confusion_matrix(y_test,logreg_prediction)\n",
    "print('Predicted Results \\n',cm_log)\n",
    "mat_cm_log = plot_confusion_matrix(logreg,X_test,y_test); \n",
    "mat_cm_log;"
   ]
  },
  {
   "cell_type": "markdown",
   "id": "6d549baa",
   "metadata": {},
   "source": [
    "## Decision Tree"
   ]
  },
  {
   "cell_type": "code",
   "execution_count": 55,
   "id": "c0f6e953",
   "metadata": {},
   "outputs": [],
   "source": [
    "# Creating the Decision Tree classifier, and fitting it on the training data to make predictions on the testing data\n",
    "\n",
    "dtree_class = DecisionTreeClassifier()\n",
    "dtree_class.fit(X_train, y_train)\n",
    "dtree_prediction = dtree_class.predict(X_test)"
   ]
  },
  {
   "cell_type": "code",
   "execution_count": 56,
   "id": "46f9c285",
   "metadata": {},
   "outputs": [
    {
     "data": {
      "text/plain": [
       "array([1., 1., 0., ..., 1., 0., 0.])"
      ]
     },
     "execution_count": 56,
     "metadata": {},
     "output_type": "execute_result"
    }
   ],
   "source": [
    "# probability for each values\n",
    "pred_prob_dt = dtree_class.predict_proba(X_test)[:,1]\n",
    "pred_prob_dt"
   ]
  },
  {
   "cell_type": "code",
   "execution_count": 57,
   "id": "4633a66a",
   "metadata": {},
   "outputs": [
    {
     "name": "stdout",
     "output_type": "stream",
     "text": [
      "Classification Report for Decision Tree\n",
      "\n",
      "              precision    recall  f1-score   support\n",
      "\n",
      "           0       0.95      0.94      0.94     38236\n",
      "           1       0.90      0.90      0.90     20829\n",
      "\n",
      "    accuracy                           0.93     59065\n",
      "   macro avg       0.92      0.92      0.92     59065\n",
      "weighted avg       0.93      0.93      0.93     59065\n",
      "\n"
     ]
    }
   ],
   "source": [
    "print('Classification Report for Decision Tree\\n')\n",
    "print(classification_report(y_test, dtree_prediction))"
   ]
  },
  {
   "cell_type": "code",
   "execution_count": 58,
   "id": "7af3c32a",
   "metadata": {},
   "outputs": [
    {
     "name": "stdout",
     "output_type": "stream",
     "text": [
      "Predicted Results \n",
      " [[36099  2137]\n",
      " [ 2067 18762]]\n"
     ]
    },
    {
     "data": {
      "image/png": "[encoded data removed]",
      "text/plain": [
       "<Figure size 432x288 with 2 Axes>"
      ]
     },
     "metadata": {
      "needs_background": "light"
     },
     "output_type": "display_data"
    }
   ],
   "source": [
    "#printing the confusion matrix of Decision Tree Classifier\n",
    "cm_dt = confusion_matrix(y_test,dtree_prediction)\n",
    "print('Predicted Results \\n',cm_dt)\n",
    "mat_cm_dt =  plot_confusion_matrix(dtree_class,X_test,y_test);\n",
    "mat_cm_dt;"
   ]
  },
  {
   "cell_type": "markdown",
   "id": "b3275671",
   "metadata": {},
   "source": [
    "## Random Forest Classifier"
   ]
  },
  {
   "cell_type": "code",
   "execution_count": 59,
   "id": "a5b974a2",
   "metadata": {},
   "outputs": [
    {
     "data": {
      "text/plain": [
       "RandomForestClassifier()"
      ]
     },
     "execution_count": 59,
     "metadata": {},
     "output_type": "execute_result"
    }
   ],
   "source": [
    "# Creating the Random Forest classifier, and fitting it on the training data to make predictions on the testing data\n",
    "rf_class = RandomForestClassifier()\n",
    "rf_class.fit(X_train,y_train)"
   ]
  },
  {
   "cell_type": "code",
   "execution_count": 60,
   "id": "536faa8d",
   "metadata": {},
   "outputs": [],
   "source": [
    "# Predicting tesing data using Random Forest\n",
    "\n",
    "rf_class_prediction = rf_class.predict(X_test)"
   ]
  },
  {
   "cell_type": "code",
   "execution_count": 61,
   "id": "42219197",
   "metadata": {},
   "outputs": [
    {
     "data": {
      "text/plain": [
       "array([0.96, 0.97, 0.02, ..., 0.73, 0.07, 0.04])"
      ]
     },
     "execution_count": 61,
     "metadata": {},
     "output_type": "execute_result"
    }
   ],
   "source": [
    "# probabilit for each values\n",
    "\n",
    "pred_prob_rf = rf_class.predict_proba(X_test)[:,1]\n",
    "pred_prob_rf"
   ]
  },
  {
   "cell_type": "code",
   "execution_count": 62,
   "id": "258bd559",
   "metadata": {},
   "outputs": [
    {
     "name": "stdout",
     "output_type": "stream",
     "text": [
      "Classification Report for Random Forest Classifier \n",
      "\n",
      "              precision    recall  f1-score   support\n",
      "\n",
      "           0       0.92      0.99      0.95     38236\n",
      "           1       0.97      0.84      0.90     20829\n",
      "\n",
      "    accuracy                           0.94     59065\n",
      "   macro avg       0.94      0.91      0.93     59065\n",
      "weighted avg       0.94      0.94      0.93     59065\n",
      "\n"
     ]
    }
   ],
   "source": [
    "#printing classifiction report of Random Forest\n",
    "print('Classification Report for Random Forest Classifier \\n')\n",
    "print(classification_report(y_test, rf_class_prediction))"
   ]
  },
  {
   "cell_type": "code",
   "execution_count": 63,
   "id": "38d9c984",
   "metadata": {},
   "outputs": [
    {
     "name": "stdout",
     "output_type": "stream",
     "text": [
      "Predicted Results \n",
      " [[37687   549]\n",
      " [ 3288 17541]]\n"
     ]
    },
    {
     "data": {
      "image/png": "[encoded data removed]",
      "text/plain": [
       "<Figure size 432x288 with 2 Axes>"
      ]
     },
     "metadata": {
      "needs_background": "light"
     },
     "output_type": "display_data"
    }
   ],
   "source": [
    "#printing the confusion matrix of Random Forest\n",
    "cm_rf = confusion_matrix(y_test,rf_class_prediction)\n",
    "print('Predicted Results \\n',cm_rf)\n",
    "mat_cm_rf = plot_confusion_matrix(rf_class,X_test,y_test);\n",
    "mat_cm_rf;"
   ]
  },
  {
   "cell_type": "markdown",
   "id": "1a1d6f5a",
   "metadata": {},
   "source": [
    "## Overall Confusion Matrix"
   ]
  },
  {
   "cell_type": "code",
   "execution_count": 64,
   "id": "f5859f36",
   "metadata": {},
   "outputs": [
    {
     "data": {
      "image/png": "[encoded data removed]",
      "text/plain": [
       "<Figure size 432x288 with 2 Axes>"
      ]
     },
     "metadata": {
      "needs_background": "light"
     },
     "output_type": "display_data"
    },
    {
     "data": {
      "image/png": "[encoded data removed]",
      "text/plain": [
       "<Figure size 432x288 with 2 Axes>"
      ]
     },
     "metadata": {
      "needs_background": "light"
     },
     "output_type": "display_data"
    },
    {
     "data": {
      "image/png": "[encoded data removed]",
      "text/plain": [
       "<Figure size 432x288 with 2 Axes>"
      ]
     },
     "metadata": {
      "needs_background": "light"
     },
     "output_type": "display_data"
    }
   ],
   "source": [
    "# Creating a Confusion Matrix of all the classifiers\n",
    "class_mats = [mat_cm_log,mat_cm_dt,mat_cm_rf]\n",
    "names = ['Logistic','Decision Tree','Random Forest']\n",
    "count = 0\n",
    "for i in class_mats:\n",
    "    i.plot() \n",
    "    plt.title(names[count]);\n",
    "    plt.grid(False);\n",
    "    i.ax_.set(xlabel='Predicted', ylabel='True');    \n",
    "    count=count+1\n",
    "plt.tight_layout()\n",
    "plt.show()"
   ]
  },
  {
   "cell_type": "markdown",
   "id": "a0f10d4c",
   "metadata": {},
   "source": [
    "## Overall Classification Report"
   ]
  },
  {
   "cell_type": "code",
   "execution_count": 65,
   "id": "87c3e58a",
   "metadata": {},
   "outputs": [
    {
     "name": "stdout",
     "output_type": "stream",
     "text": [
      "\t\t\t Logistic Regression: \n",
      "\n",
      "               precision    recall  f1-score   support\n",
      "\n",
      "           0       0.86      0.98      0.91     38236\n",
      "           1       0.94      0.70      0.80     20829\n",
      "\n",
      "    accuracy                           0.88     59065\n",
      "   macro avg       0.90      0.84      0.86     59065\n",
      "weighted avg       0.89      0.88      0.87     59065\n",
      "\n",
      "\t\t\t Decision Tree \n",
      "\n",
      "               precision    recall  f1-score   support\n",
      "\n",
      "           0       0.95      0.94      0.94     38236\n",
      "           1       0.90      0.90      0.90     20829\n",
      "\n",
      "    accuracy                           0.93     59065\n",
      "   macro avg       0.92      0.92      0.92     59065\n",
      "weighted avg       0.93      0.93      0.93     59065\n",
      "\n",
      "\t\t\t Random Forest \n",
      "\n",
      "               precision    recall  f1-score   support\n",
      "\n",
      "           0       0.92      0.99      0.95     38236\n",
      "           1       0.97      0.84      0.90     20829\n",
      "\n",
      "    accuracy                           0.94     59065\n",
      "   macro avg       0.94      0.91      0.93     59065\n",
      "weighted avg       0.94      0.94      0.93     59065\n",
      "\n"
     ]
    }
   ],
   "source": [
    "print('\\t\\t\\t Logistic Regression: \\n\\n',classification_report( y_test, logreg_prediction))\n",
    "print('\\t\\t\\t Decision Tree \\n\\n',classification_report(y_test, dtree_prediction))\n",
    "print('\\t\\t\\t Random Forest \\n\\n',classification_report(y_test, rf_class_prediction))"
   ]
  },
  {
   "cell_type": "markdown",
   "id": "cf46c043",
   "metadata": {},
   "source": [
    "## ROC AUC for Logistic Regression"
   ]
  },
  {
   "cell_type": "code",
   "execution_count": 66,
   "id": "558da7d2",
   "metadata": {},
   "outputs": [],
   "source": [
    "from sklearn.metrics import plot_roc_curve\n",
    "from sklearn.metrics import roc_auc_score,roc_curve\n",
    "from sklearn import metrics\n",
    "\n",
    "# Converting the testing output to integer for graphical purpose\n",
    "y_test_roc = y_test.astype('int')"
   ]
  },
  {
   "cell_type": "code",
   "execution_count": 67,
   "id": "7a29d32e",
   "metadata": {},
   "outputs": [
    {
     "name": "stdout",
     "output_type": "stream",
     "text": [
      "Logistic Regression ROC AUC : 0.929\n",
      "No skill classifier ROC AUC: 0.500\n",
      "Accuracy :  0.9288241767544231\n"
     ]
    }
   ],
   "source": [
    "# Logistic AUC and No Skill AUC\n",
    "\n",
    "noskill = [0 for _ in range(len(y_test))]\n",
    "\n",
    "Main_AUC_prob_log = roc_auc_score(y_test, pred_prob_log)\n",
    "Noskill_AUC_log = roc_auc_score(y_test, noskill)\n",
    "print('Logistic Regression ROC AUC : %.3f' % Main_AUC_prob_log)\n",
    "print('No skill classifier ROC AUC: %.3f' % Noskill_AUC_log)\n",
    "print('Accuracy : ',metrics.accuracy_score(y_test, dtree_prediction))"
   ]
  },
  {
   "cell_type": "markdown",
   "id": "a60631b8",
   "metadata": {},
   "source": [
    "## ROC AUC for Decision Tree Classifier"
   ]
  },
  {
   "cell_type": "code",
   "execution_count": 68,
   "id": "a80a63ad",
   "metadata": {},
   "outputs": [
    {
     "name": "stdout",
     "output_type": "stream",
     "text": [
      "Decision Tree Classifier  ROC AUC : 0.922\n",
      "No skill classifier ROC AUC: 0.500\n",
      "Accuracy :  0.9288241767544231\n"
     ]
    }
   ],
   "source": [
    "# Decision Tree AUC and No Skill AUC\n",
    "\n",
    "noskill = [0 for _ in range(len(y_test))]\n",
    "\n",
    "Main_AUC_prob_dt = roc_auc_score(y_test, pred_prob_dt)\n",
    "Noskill_AUC_dt = roc_auc_score(y_test, noskill)\n",
    "print('Decision Tree Classifier  ROC AUC : %.3f' % Main_AUC_prob_dt)\n",
    "print('No skill classifier ROC AUC: %.3f' % Noskill_AUC_dt)\n",
    "print('Accuracy : ',metrics.accuracy_score(y_test, dtree_prediction))"
   ]
  },
  {
   "cell_type": "markdown",
   "id": "0987509a",
   "metadata": {},
   "source": [
    "## ROC AUC for Random Forest"
   ]
  },
  {
   "cell_type": "code",
   "execution_count": 69,
   "id": "d9862538",
   "metadata": {},
   "outputs": [
    {
     "name": "stdout",
     "output_type": "stream",
     "text": [
      "Random Forest ROC AUC : 0.980\n",
      "No skill classifier ROC AUC: 0.500\n",
      "Accuracy :  0.9350376703631592\n"
     ]
    }
   ],
   "source": [
    "# Random Forest AUC and No Skill AUC\n",
    "\n",
    "noskill = [0 for _ in range(len(y_test))]\n",
    "\n",
    "Main_AUC_prob_rf = roc_auc_score(y_test, pred_prob_rf)\n",
    "Noskill_AUC_rf = roc_auc_score(y_test, noskill)\n",
    "print('Random Forest ROC AUC : %.3f' % Main_AUC_prob_rf)\n",
    "print('No skill classifier ROC AUC: %.3f' % Noskill_AUC_rf)\n",
    "print('Accuracy : ',metrics.accuracy_score(y_test, rf_class_prediction))"
   ]
  },
  {
   "cell_type": "code",
   "execution_count": 70,
   "id": "9248f08e",
   "metadata": {},
   "outputs": [
    {
     "name": "stdout",
     "output_type": "stream",
     "text": [
      "AUC score for Logistic Regression: 0.9293799020856448\n",
      "AUC score for Decision Tree Classifier: 0.9224368106791967\n",
      "AUC score for Random Forest: 0.9804034389273275\n"
     ]
    },
    {
     "data": {
      "image/png": "[encoded data removed]",
      "text/plain": [
       "<Figure size 432x288 with 1 Axes>"
      ]
     },
     "metadata": {
      "needs_background": "light"
     },
     "output_type": "display_data"
    }
   ],
   "source": [
    "fpr1, tpr1, thresholds1 = metrics.roc_curve(y_test_roc, pred_prob_log)\n",
    "fpr2, tpr2, thresholds2 = metrics.roc_curve(y_test_roc, pred_prob_dt)\n",
    "fpr3, tpr3, thresholds3 = metrics.roc_curve(y_test_roc, pred_prob_rf)\n",
    "\n",
    "print(\"AUC score for Logistic Regression:\", roc_auc_score(y_test, pred_prob_log,average='macro'))\n",
    "print(\"AUC score for Decision Tree Classifier:\", roc_auc_score(y_test, pred_prob_dt,average='macro'))\n",
    "print(\"AUC score for Random Forest:\", roc_auc_score(y_test, pred_prob_rf,average='macro'))\n",
    "\n",
    "auc1 = metrics.roc_auc_score(y_test, pred_prob_log)\n",
    "auc2 = metrics.roc_auc_score(y_test, pred_prob_dt)\n",
    "auc3 = metrics.roc_auc_score(y_test, pred_prob_rf)\n",
    "\n",
    "plt.plot(fpr1, tpr1,label=\"AUC=\"+str(auc1))\n",
    "plt.plot(fpr2, tpr2,label=\"AUC=\"+str(auc2))\n",
    "plt.plot(fpr3, tpr3,label=\"AUC=\"+str(auc3))\n",
    "\n",
    "\n",
    "plt.plot([0,1], [0,1], ls=':')\n",
    "plt.ylabel('True Positive Rate')\n",
    "plt.xlabel('False Positive Rate')\n",
    "\n",
    "plt.legend([['Logistic: '], ['Decision Tree:'], ['Random Forest:']]) \n",
    "\n",
    "plt.grid(color='black', linestyle='-', linewidth=0.2);"
   ]
  }
 ],
 "metadata": {
  "kernelspec": {
   "display_name": "Python 3 (ipykernel)",
   "language": "python",
   "name": "python3"
  },
  "language_info": {
   "codemirror_mode": {
    "name": "ipython",
    "version": 3
   },
   "file_extension": ".py",
   "mimetype": "text/x-python",
   "name": "python",
   "nbconvert_exporter": "python",
   "pygments_lexer": "ipython3",
   "version": "3.9.7"
  }
 },
 "nbformat": 4,
 "nbformat_minor": 5
}
